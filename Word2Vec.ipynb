{
 "cells": [
  {
   "cell_type": "markdown",
   "metadata": {},
   "source": [
    "# Import library and load the Dataset"
   ]
  },
  {
   "cell_type": "code",
   "execution_count": 77,
   "metadata": {},
   "outputs": [],
   "source": [
    "import nltk\n",
    "from gensim.models import Word2Vec\n",
    "from nltk.corpus import stopwords\n",
    "\n",
    "import re\n",
    "\n",
    "para = \"\"\"The Janata curfew was a 14 hour curfew (7am-9pm) that was scheduled\n",
    "             for 22 March 2020.[4] Everyone except people of 'essential services' such as police,\n",
    "             medical services, media, home delivery professionals and firefighters were needed to\n",
    "             take part in the curfew. At 5 pm (22nd March 2020), all citizens were asked to stand \n",
    "             in their doorways, balconies or windows, and clap their hands or ring their bells in \n",
    "             appreciation for the professionals delivering these essential services.People belonging\n",
    "             to National Cadet Corps and National Service Scheme were to enforce the curfew in the country. \n",
    "             The Prime Minister also urged the youth to inform 10 others about Janata curfew and encourage \n",
    "             everyone to observe the curfew.\"\"\"\n"
   ]
  },
  {
   "cell_type": "markdown",
   "metadata": {},
   "source": [
    "# Preprocessing of Dataset"
   ]
  },
  {
   "cell_type": "code",
   "execution_count": 78,
   "metadata": {},
   "outputs": [],
   "source": [
    "text = re.sub(r'\\[[0-9]*\\]',' ',para)\n",
    "text = re.sub(r'\\s+',' ',text)\n",
    "text = text.lower()\n",
    "text = re.sub(r'\\d',' ',text)\n",
    "text = re.sub(r'\\s+',' ',text)"
   ]
  },
  {
   "cell_type": "markdown",
   "metadata": {},
   "source": [
    "# Prepare of dataset\n",
    "   "
   ]
  },
  {
   "cell_type": "code",
   "execution_count": 80,
   "metadata": {},
   "outputs": [],
   "source": [
    "sentences = nltk.sent_tokenize(text)\n",
    "sentences = [nltk.word_tokenize(sentence) for sentence in sentences]\n",
    "\n",
    "for i in range(len(sentences)):\n",
    "    sentences[i] = [word for word in sentences[i] if word not in stopwords.words('english')]"
   ]
  },
  {
   "cell_type": "markdown",
   "metadata": {},
   "source": [
    "# Train of Word2Vec"
   ]
  },
  {
   "cell_type": "code",
   "execution_count": 83,
   "metadata": {},
   "outputs": [
    {
     "name": "stdout",
     "output_type": "stream",
     "text": [
      "{'janata': <gensim.models.keyedvectors.Vocab object at 0x7fae06e78d50>, 'curfew': <gensim.models.keyedvectors.Vocab object at 0x7fae06e78150>, 'hour': <gensim.models.keyedvectors.Vocab object at 0x7fae06e781d0>, '(': <gensim.models.keyedvectors.Vocab object at 0x7fae06e78f90>, 'am-': <gensim.models.keyedvectors.Vocab object at 0x7fae06e78990>, 'pm': <gensim.models.keyedvectors.Vocab object at 0x7fae06e78e50>, ')': <gensim.models.keyedvectors.Vocab object at 0x7fae06e78910>, 'scheduled': <gensim.models.keyedvectors.Vocab object at 0x7fae06e78d90>, 'march': <gensim.models.keyedvectors.Vocab object at 0x7fae06e78690>, '.': <gensim.models.keyedvectors.Vocab object at 0x7fae06e78490>, 'everyone': <gensim.models.keyedvectors.Vocab object at 0x7fae06e78350>, 'except': <gensim.models.keyedvectors.Vocab object at 0x7fae06e78710>, 'people': <gensim.models.keyedvectors.Vocab object at 0x7fae06e78750>, \"'essential\": <gensim.models.keyedvectors.Vocab object at 0x7fae06e78fd0>, 'services': <gensim.models.keyedvectors.Vocab object at 0x7fae06e78890>, \"'\": <gensim.models.keyedvectors.Vocab object at 0x7fae06e786d0>, 'police': <gensim.models.keyedvectors.Vocab object at 0x7fae06e78290>, ',': <gensim.models.keyedvectors.Vocab object at 0x7fae06e78090>, 'medical': <gensim.models.keyedvectors.Vocab object at 0x7fae06e78f10>, 'media': <gensim.models.keyedvectors.Vocab object at 0x7fae06e78190>, 'home': <gensim.models.keyedvectors.Vocab object at 0x7fae06e78210>, 'delivery': <gensim.models.keyedvectors.Vocab object at 0x7fae06e782d0>, 'professionals': <gensim.models.keyedvectors.Vocab object at 0x7fae06e78510>, 'firefighters': <gensim.models.keyedvectors.Vocab object at 0x7fae06e78310>, 'needed': <gensim.models.keyedvectors.Vocab object at 0x7fae06e787d0>, 'take': <gensim.models.keyedvectors.Vocab object at 0x7fae06e788d0>, 'part': <gensim.models.keyedvectors.Vocab object at 0x7fae06e78c50>, 'nd': <gensim.models.keyedvectors.Vocab object at 0x7fae06e78c10>, 'citizens': <gensim.models.keyedvectors.Vocab object at 0x7fae06e78e90>, 'asked': <gensim.models.keyedvectors.Vocab object at 0x7fae06e785d0>, 'stand': <gensim.models.keyedvectors.Vocab object at 0x7fae06e78f50>, 'doorways': <gensim.models.keyedvectors.Vocab object at 0x7fae06e78e10>, 'balconies': <gensim.models.keyedvectors.Vocab object at 0x7fae06e78410>, 'windows': <gensim.models.keyedvectors.Vocab object at 0x7fae06e78950>, 'clap': <gensim.models.keyedvectors.Vocab object at 0x7fae06e78ad0>, 'hands': <gensim.models.keyedvectors.Vocab object at 0x7fae06e217d0>, 'ring': <gensim.models.keyedvectors.Vocab object at 0x7fae06e21390>, 'bells': <gensim.models.keyedvectors.Vocab object at 0x7fae06e21850>, 'appreciation': <gensim.models.keyedvectors.Vocab object at 0x7fae06e211d0>, 'delivering': <gensim.models.keyedvectors.Vocab object at 0x7fae06e21c50>, 'essential': <gensim.models.keyedvectors.Vocab object at 0x7fae06e21290>, 'services.people': <gensim.models.keyedvectors.Vocab object at 0x7fae06e21a10>, 'belonging': <gensim.models.keyedvectors.Vocab object at 0x7fae06e21450>, 'national': <gensim.models.keyedvectors.Vocab object at 0x7fae06e21e50>, 'cadet': <gensim.models.keyedvectors.Vocab object at 0x7fae06e21810>, 'corps': <gensim.models.keyedvectors.Vocab object at 0x7fae06e21250>, 'service': <gensim.models.keyedvectors.Vocab object at 0x7fae06e21990>, 'scheme': <gensim.models.keyedvectors.Vocab object at 0x7fae06e21110>, 'enforce': <gensim.models.keyedvectors.Vocab object at 0x7fae06e218d0>, 'country': <gensim.models.keyedvectors.Vocab object at 0x7fae06e21890>, 'prime': <gensim.models.keyedvectors.Vocab object at 0x7fae06e21a90>, 'minister': <gensim.models.keyedvectors.Vocab object at 0x7fae06e21b90>, 'also': <gensim.models.keyedvectors.Vocab object at 0x7fae06e216d0>, 'urged': <gensim.models.keyedvectors.Vocab object at 0x7fae07560550>, 'youth': <gensim.models.keyedvectors.Vocab object at 0x7fae06e6fa10>, 'inform': <gensim.models.keyedvectors.Vocab object at 0x7fae06e6f650>, 'others': <gensim.models.keyedvectors.Vocab object at 0x7fae06e6f7d0>, 'encourage': <gensim.models.keyedvectors.Vocab object at 0x7fae06e6f290>, 'observe': <gensim.models.keyedvectors.Vocab object at 0x7fae06e6f050>}\n"
     ]
    }
   ],
   "source": [
    "model = Word2Vec(sentences, min_count=1)\n",
    "words = model.wv.vocab\n",
    "print(words)"
   ]
  },
  {
   "cell_type": "markdown",
   "metadata": {},
   "source": [
    "# Find Word Vectors"
   ]
  },
  {
   "cell_type": "code",
   "execution_count": 84,
   "metadata": {},
   "outputs": [
    {
     "name": "stdout",
     "output_type": "stream",
     "text": [
      "[-1.29467517e-03 -3.22285504e-03  4.62906715e-03 -6.12356118e-04\n",
      " -2.50581326e-03 -4.82899044e-03  3.45012592e-03 -2.87816278e-03\n",
      " -2.97654071e-03 -2.73720128e-03 -4.37526871e-03  9.71995119e-04\n",
      " -3.01549770e-03 -4.79435315e-03  1.89631351e-03 -4.44967719e-03\n",
      " -2.19260878e-03  1.20518310e-03  1.25716394e-03 -3.05714691e-03\n",
      "  1.21947676e-04 -3.69059597e-03  1.72704563e-03  1.70004938e-03\n",
      " -1.28638628e-03 -2.22189398e-03 -1.22521061e-03 -3.62587557e-03\n",
      " -3.61668272e-03 -3.08140973e-03 -3.47144483e-03 -1.55339553e-03\n",
      " -4.10683732e-03 -4.06658393e-04  1.75540196e-03 -4.42369888e-03\n",
      " -6.26097317e-04  2.17343564e-03 -8.72750243e-04 -4.04770905e-03\n",
      " -3.54647310e-03 -4.04682709e-03  1.37259054e-03 -4.60608024e-03\n",
      "  4.16312905e-05  1.56308548e-03  8.80489941e-04 -2.48219282e-03\n",
      " -4.66261758e-04  6.50496164e-04 -4.46151476e-03 -3.53688869e-04\n",
      "  3.37724527e-03 -3.21929553e-03 -1.67715724e-03 -1.34480488e-03\n",
      " -1.87396875e-03 -9.59167548e-04 -1.74481526e-03  1.38064532e-03\n",
      "  1.75636334e-04 -7.55158137e-04 -4.83858213e-03  3.13321222e-03\n",
      "  3.99396196e-03 -4.97221109e-03  6.39443635e-04  1.88497803e-03\n",
      " -2.81042443e-03  1.11067365e-03 -1.69360533e-03 -8.24198301e-04\n",
      "  2.59890384e-03  2.23954697e-03  4.31254832e-03 -4.01087804e-03\n",
      "  2.23802333e-03 -4.99240216e-03  1.98887545e-03 -1.30654441e-03\n",
      " -3.94620234e-03 -4.74154251e-03  8.04053387e-04 -6.44364511e-04\n",
      "  3.47644161e-03 -2.14381609e-03  1.67218829e-03  3.12035554e-03\n",
      "  4.58379788e-03 -2.75325286e-03 -2.93446612e-03  1.98060065e-03\n",
      "  4.97588096e-03 -2.60086218e-03  4.90484526e-03 -2.21901364e-03\n",
      "  2.14391248e-03 -2.31505441e-03 -1.72840513e-03 -1.62417884e-03]\n"
     ]
    }
   ],
   "source": [
    "vector = model.wv['curfew']\n",
    "print(vector)"
   ]
  },
  {
   "cell_type": "markdown",
   "metadata": {},
   "source": [
    "# Most similar words"
   ]
  },
  {
   "cell_type": "code",
   "execution_count": 85,
   "metadata": {},
   "outputs": [
    {
     "name": "stdout",
     "output_type": "stream",
     "text": [
      "[('also', 0.18369483947753906), ('(', 0.16055843234062195), ('.', 0.14771631360054016), ('professionals', 0.12899194657802582), ('pm', 0.10595795512199402), (')', 0.10176963359117508), ('home', 0.09224002808332443), ('nd', 0.08122609555721283), ('service', 0.07889124006032944), ('essential', 0.06996113061904907)]\n"
     ]
    }
   ],
   "source": [
    "similar = model.wv.most_similar('clap')\n",
    "print(similar)"
   ]
  },
  {
   "cell_type": "code",
   "execution_count": null,
   "metadata": {},
   "outputs": [],
   "source": []
  }
 ],
 "metadata": {
  "kernelspec": {
   "display_name": "Python 3",
   "language": "python",
   "name": "python3"
  },
  "language_info": {
   "codemirror_mode": {
    "name": "ipython",
    "version": 3
   },
   "file_extension": ".py",
   "mimetype": "text/x-python",
   "name": "python",
   "nbconvert_exporter": "python",
   "pygments_lexer": "ipython3",
   "version": "3.7.6"
  }
 },
 "nbformat": 4,
 "nbformat_minor": 4
}
